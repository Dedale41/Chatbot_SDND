{
 "cells": [
  {
   "cell_type": "code",
   "execution_count": 44,
   "metadata": {},
   "outputs": [],
   "source": [
    "h_debut=8*3600 #heure en secondes\n",
    "h_fin=18*3600\n",
    "\n",
    "doc_name=\"doc1\"\n",
    "nb_pages=1234\n",
    "hour=10.25*3600\n",
    "day=0\n",
    "agenda=[[[8*3600,11*3600,'doc_debut']],[],[],[],[],[]] #chaque sous liste c'est un jour, dans chaque jour il y a la liste des créneaux, un créneau c'est [h_début,h_fin,\"nomdudoc\"]"
   ]
  },
  {
   "cell_type": "code",
   "execution_count": 45,
   "metadata": {},
   "outputs": [],
   "source": [
    "def add_new_print(doc_name,nb_pages,hour,day,agenda):\n",
    "    h_debut=8*3600\n",
    "    h_fin=18*3600\n",
    "\n",
    "    if len(agenda[day])==0:                                     #si l'agenda de la journée est vide\n",
    "        print(\"tortue\")\n",
    "        if hour+nb_pages<=h_fin:                                #si l'impression passe dans le reste de la journée\n",
    "            agenda[day].append([hour,hour+nb_pages,doc_name])\n",
    "        else:                                                   #si l'impression dépasse, on déplace au lendemain à la première heure, si c'est déjà samedi, on prépare pas pour la semaine suivante, erreur\n",
    "            if day<5:\n",
    "                return add_new_print(doc_name,nb_pages,h_debut,day+1,agenda)\n",
    "            else:\n",
    "                return -1\n",
    "    else:\n",
    "        if agenda[day][-1][1]<hour  :                                 #si l'agenda est libre au moment où on fait la demande d'impression\n",
    "            print(\"lourte\")\n",
    "            if hour+nb_pages<=h_fin:                                #si l'impression passe dans le reste de la journée\n",
    "                agenda[day].append([hour,hour+nb_pages,doc_name])\n",
    "            else:                                                   #si l'impression dépasse, on déplace au lendemain à la première heure, si c'est déjà samedi, on prépare pas pour la semaine suivante, erreur\n",
    "                if day<5:\n",
    "                    return add_new_print(doc_name,nb_pages,h_debut,day+1,agenda)\n",
    "                else:\n",
    "                    return -1\n",
    "        else:                                                       #si l'agenda n'est pas libre au moment de la demande d'impression\n",
    "            print(\"truite\")\n",
    "            if agenda[day][-1][1]+nb_pages<=h_fin:                  #si l'impression passe dans la journée\n",
    "                agenda[day].append([agenda[day][-1][1],agenda[day][-1][1]+nb_pages,doc_name])\n",
    "            else:                                                   #si l'impression dépasse, on déplace au lendemain à la première heure, si c'est déjà samedi, on prépare pas pour la semaine suivante, erreur\n",
    "                if day<5:\n",
    "                    return add_new_print(doc_name,nb_pages,h_debut,day+1,agenda)\n",
    "                else:\n",
    "                    return -1\n",
    "    return agenda"
   ]
  },
  {
   "cell_type": "code",
   "execution_count": 46,
   "metadata": {},
   "outputs": [
    {
     "name": "stdout",
     "output_type": "stream",
     "text": [
      "truite\n"
     ]
    },
    {
     "data": {
      "text/plain": [
       "[[[28800, 39600, 'doc_debut'], [39600, 40834, 'doc1']], [], [], [], [], []]"
      ]
     },
     "execution_count": 46,
     "metadata": {},
     "output_type": "execute_result"
    }
   ],
   "source": [
    "\n",
    "doc_name=\"doc1\"\n",
    "nb_pages=1234\n",
    "hour=10.25*3600\n",
    "day=0\n",
    "agenda=[[[8*3600,11*3600,'doc_debut']],[],[],[],[],[]] \n",
    "\n",
    "add_new_print(doc_name,nb_pages,hour,day,agenda)"
   ]
  },
  {
   "cell_type": "code",
   "execution_count": 47,
   "metadata": {},
   "outputs": [
    {
     "data": {
      "text/plain": [
       "[[[28800, 39600, 'doc_debut'], [39600, 40834, 'doc1']], [], [], [], [], []]"
      ]
     },
     "execution_count": 47,
     "metadata": {},
     "output_type": "execute_result"
    }
   ],
   "source": [
    "agenda"
   ]
  },
  {
   "cell_type": "code",
   "execution_count": 48,
   "metadata": {},
   "outputs": [
    {
     "name": "stdout",
     "output_type": "stream",
     "text": [
      "lourte\n",
      "tortue\n",
      "tortue\n",
      "tortue\n",
      "tortue\n",
      "tortue\n"
     ]
    },
    {
     "data": {
      "text/plain": [
       "-1"
      ]
     },
     "execution_count": 48,
     "metadata": {},
     "output_type": "execute_result"
    }
   ],
   "source": [
    "add_new_print(\"doc_name\",360001,h_fin-20,day,agenda)"
   ]
  }
 ],
 "metadata": {
  "kernelspec": {
   "display_name": "Python 3.7.6 ('RedParser')",
   "language": "python",
   "name": "python3"
  },
  "language_info": {
   "codemirror_mode": {
    "name": "ipython",
    "version": 3
   },
   "file_extension": ".py",
   "mimetype": "text/x-python",
   "name": "python",
   "nbconvert_exporter": "python",
   "pygments_lexer": "ipython3",
   "version": "3.7.6"
  },
  "orig_nbformat": 4,
  "vscode": {
   "interpreter": {
    "hash": "cbd7897a24f23e2df69146adf3d25c10e0620e42a8b996eaa10b0c18a9c91fbf"
   }
  }
 },
 "nbformat": 4,
 "nbformat_minor": 2
}
